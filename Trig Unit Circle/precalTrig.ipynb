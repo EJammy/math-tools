{
 "nbformat": 4,
 "nbformat_minor": 2,
 "metadata": {
  "language_info": {
   "name": "python",
   "codemirror_mode": {
    "name": "ipython",
    "version": 3
   },
   "version": "3.8.2-final"
  },
  "orig_nbformat": 2,
  "file_extension": ".py",
  "mimetype": "text/x-python",
  "name": "python",
  "npconvert_exporter": "python",
  "pygments_lexer": "ipython3",
  "version": 3,
  "kernelspec": {
   "name": "python38232bit60fb33851f5e45fc8996b47768ed50ca",
   "display_name": "Python 3.8.2 32-bit"
  }
 },
 "cells": [
  {
   "cell_type": "code",
   "execution_count": 4,
   "metadata": {},
   "outputs": [],
   "source": [
    "import numpy as np\n",
    "from numpy import sin, cos, tan, pi, random, sqrt"
   ]
  },
  {
   "cell_type": "code",
   "execution_count": 5,
   "metadata": {},
   "outputs": [],
   "source": [
    "class angle:\n",
    "    '''\n",
    "    some angles\n",
    "    '''\n",
    "    def __init__(self, deg, inrad=False):\n",
    "        if inrad:\n",
    "            self.degree = deg*180/np.pi\n",
    "        elif type(deg) == tuple:\n",
    "            self.degree = deg[0] + deg[1]/60 + deg[2]/3600\n",
    "        else:\n",
    "            self.degree = deg\n",
    "    def __str__(self):\n",
    "        return self.degree\n",
    "    def getRad(self):\n",
    "        return self.degree*np.pi/180\n",
    "    def getMinSec(self):\n",
    "        degInt = int(self.degree)\n",
    "        minute = (self.degree - degInt) * 60\n",
    "        return degInt, int(minute), round((minute-int(minute))*60)\n",
    "    def __add__(self, other):\n",
    "        return angle(self.degree + other.degree)\n",
    "    def __sub__(self, other):\n",
    "        return angle(self.degree - other.degree)\n",
    "    def findDist(self, r):\n",
    "        return r*self.getRad()\n",
    "    def getCircle(self):\n",
    "        return self.getRad()/2/np.pi"
   ]
  },
  {
   "cell_type": "code",
   "execution_count": 6,
   "metadata": {},
   "outputs": [],
   "source": [
    "a = angle((35, 9, 0))-angle((29,57,0))"
   ]
  },
  {
   "cell_type": "code",
   "execution_count": 7,
   "metadata": {},
   "outputs": [
    {
     "output_type": "execute_result",
     "data": {
      "text/plain": "359.39819957067226"
     },
     "metadata": {},
     "execution_count": 7
    }
   ],
   "source": [
    "a.findDist(3960)"
   ]
  },
  {
   "cell_type": "code",
   "execution_count": 8,
   "metadata": {},
   "outputs": [
    {
     "output_type": "execute_result",
     "data": {
      "text/plain": "0.09063258019778013"
     },
     "metadata": {},
     "execution_count": 8
    }
   ],
   "source": [
    "np.sin(a.getRad())"
   ]
  },
  {
   "cell_type": "code",
   "execution_count": 9,
   "metadata": {},
   "outputs": [
    {
     "output_type": "execute_result",
     "data": {
      "text/plain": "5.199999999999999"
     },
     "metadata": {},
     "execution_count": 9
    }
   ],
   "source": [
    "a.degree"
   ]
  },
  {
   "cell_type": "code",
   "execution_count": 12,
   "metadata": {},
   "outputs": [
    {
     "output_type": "execute_result",
     "data": {
      "text/plain": "-8.554409418092902"
     },
     "metadata": {},
     "execution_count": 12
    }
   ],
   "source": [
    "1/tan(12.45)"
   ]
  }
 ]
}